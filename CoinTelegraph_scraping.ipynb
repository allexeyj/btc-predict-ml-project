{
 "cells": [
  {
   "cell_type": "code",
   "execution_count": null,
   "id": "d90c64f3",
   "metadata": {
    "papermill": {
     "duration": 5.943099,
     "end_time": "2025-03-02T17:54:18.847128",
     "exception": false,
     "start_time": "2025-03-02T17:54:12.904029",
     "status": "completed"
    },
    "tags": []
   },
   "outputs": [],
   "source": [
    "!pip install fake_useragent"
   ]
  },
  {
   "cell_type": "code",
   "execution_count": null,
   "id": "52804fe3",
   "metadata": {
    "papermill": {
     "duration": 1.169147,
     "end_time": "2025-03-02T17:54:20.020442",
     "exception": false,
     "start_time": "2025-03-02T17:54:18.851295",
     "status": "completed"
    },
    "tags": []
   },
   "outputs": [],
   "source": [
    "import requests\n",
    "import pandas as pd\n",
    "import time\n",
    "import json\n",
    "from fake_useragent import UserAgent\n",
    "import logging\n",
    "from tqdm import tqdm"
   ]
  },
  {
   "cell_type": "code",
   "execution_count": null,
   "id": "1e4ba033",
   "metadata": {
    "papermill": {
     "duration": 0.010658,
     "end_time": "2025-03-02T17:54:20.034952",
     "exception": false,
     "start_time": "2025-03-02T17:54:20.024294",
     "status": "completed"
    },
    "tags": []
   },
   "outputs": [],
   "source": [
    "logging.basicConfig(level=logging.INFO)"
   ]
  },
  {
   "cell_type": "markdown",
   "id": "8b14f042",
   "metadata": {
    "papermill": {
     "duration": 0.003403,
     "end_time": "2025-03-02T17:54:20.042234",
     "exception": false,
     "start_time": "2025-03-02T17:54:20.038831",
     "status": "completed"
    },
    "tags": []
   },
   "source": [
    "## Setting requests up"
   ]
  },
  {
   "cell_type": "code",
   "execution_count": null,
   "id": "8cc22fb5",
   "metadata": {
    "papermill": {
     "duration": 0.106301,
     "end_time": "2025-03-02T17:54:20.152224",
     "exception": false,
     "start_time": "2025-03-02T17:54:20.045923",
     "status": "completed"
    },
    "tags": []
   },
   "outputs": [],
   "source": [
    "url = \"https://conpletus.cointelegraph.com/v1/\"\n",
    "\n",
    "user_agent = UserAgent()\n",
    "\n",
    "headers_1 = {\n",
    "  'accept': 'application/graphql-response+json, application/graphql+json, application/json, text/event-stream, multipart/mixed',\n",
    "  'accept-language': 'en-GB,en-US;q=0.9,en;q=0.8,ru;q=0.7',\n",
    "  'content-type': 'application/json',\n",
    "  'origin': 'https://cointelegraph.com',\n",
    "  'priority': 'u=1, i',\n",
    "  'referer': 'https://cointelegraph.com/',\n",
    "  'sec-fetch-dest': 'empty',\n",
    "  'sec-fetch-mode': 'cors',\n",
    "  'user-agent': user_agent.chrome\n",
    "}"
   ]
  },
  {
   "cell_type": "code",
   "execution_count": null,
   "id": "00f5a7e1",
   "metadata": {
    "papermill": {
     "duration": 0.011514,
     "end_time": "2025-03-02T17:54:20.167577",
     "exception": false,
     "start_time": "2025-03-02T17:54:20.156063",
     "status": "completed"
    },
    "tags": []
   },
   "outputs": [],
   "source": [
    "def get_payload(length=15, offset=0):\n",
    "    payload_template = r\"\"\"\n",
    "    {{\n",
    "      \"query\": \"query TagPageQuery($short: String, $slug: String!, $order: String, $offset: Int!, $length: Int!) {{\\n  locale(short: $short) {{\\n    tag(slug: $slug) {{\\n      id\\n      slug\\n      avatar\\n      createdAt\\n      updatedAt\\n      redirectRelativeUrl\\n      alternates {{\\n        short\\n        domain\\n        id\\n        code\\n        __typename\\n      }}\\n      tagTranslates {{\\n        id\\n        title\\n        metaTitle\\n        pageTitle\\n        description\\n        metaDescription\\n        keywords\\n        __typename\\n      }}\\n      posts(order: $order, offset: $offset, length: $length) {{\\n        data {{\\n          id\\n          slug\\n          views\\n          postTranslate {{\\n            id\\n            title\\n            avatar\\n            published\\n            publishedHumanFormat\\n            leadText\\n            author {{\\n              id\\n              slug\\n              authorTranslates {{\\n                id\\n                name\\n                __typename\\n              }}\\n              __typename\\n            }}\\n            __typename\\n          }}\\n          category {{\\n            id\\n            slug\\n            __typename\\n          }}\\n          author {{\\n            id\\n            slug\\n            authorTranslates {{\\n              id\\n              name\\n              __typename\\n            }}\\n            __typename\\n          }}\\n          postBadge {{\\n            id\\n            label\\n            postBadgeTranslates {{\\n              id\\n              title\\n              __typename\\n            }}\\n            __typename\\n          }}\\n          showShares\\n          showStats\\n          __typename\\n        }}\\n        postsCount\\n        __typename\\n      }}\\n      __typename\\n    }}\\n    __typename\\n  }}\\n}}\",\n",
    "      \"variables\": {{\"cacheTimeInMS\": 300000, \"length\":{length}, \"offset\":{offset}, \"order\": \"postPublishedTime\", \"short\": \"en\", \"slug\": \"bitcoin\"}}\n",
    "    }}\n",
    "    \"\"\"\n",
    "    return payload_template.format(length=length, offset=offset)\n"
   ]
  },
  {
   "cell_type": "markdown",
   "id": "f3a3374c",
   "metadata": {
    "papermill": {
     "duration": 0.003302,
     "end_time": "2025-03-02T17:54:20.174770",
     "exception": false,
     "start_time": "2025-03-02T17:54:20.171468",
     "status": "completed"
    },
    "tags": []
   },
   "source": [
    "## Scraping and parsing articles from https://cointelegraph.com/ with tag \"Bitcoin\""
   ]
  },
  {
   "cell_type": "code",
   "execution_count": null,
   "id": "e173d2b6",
   "metadata": {
    "papermill": {
     "duration": 34.829955,
     "end_time": "2025-03-02T17:54:55.008302",
     "exception": false,
     "start_time": "2025-03-02T17:54:20.178347",
     "status": "completed"
    },
    "tags": []
   },
   "outputs": [],
   "source": [
    "request_batch_size = 500\n",
    "\n",
    "articles = []\n",
    "\n",
    "for it in tqdm(range(20)):\n",
    "    payload = get_payload(length=request_batch_size, offset=it * request_batch_size)\n",
    "    resp = requests.request(\"POST\", url, headers=headers_1, data=payload)\n",
    "    if resp.status_code != 200:\n",
    "        logging.error(f\"Status code is not equal to 200 at batch {it}\")\n",
    "        continue\n",
    "    resp_articles = json.loads(resp.content)[\"data\"][\"locale\"][\"tag\"][\"posts\"][\"data\"]\n",
    "    for resp_article in resp_articles:\n",
    "        article = {\n",
    "            \"title\": resp_article[\"postTranslate\"][\"title\"],\n",
    "            \"url\": \"https://cointelegraph.com/news/\" + resp_article[\"slug\"],\n",
    "            \"published_time\": resp_article[\"postTranslate\"][\"published\"],\n",
    "            \"views\": resp_article[\"views\"]\n",
    "        }\n",
    "        articles.append(article)\n",
    "        "
   ]
  },
  {
   "cell_type": "code",
   "execution_count": null,
   "id": "f053de6b",
   "metadata": {
    "papermill": {
     "duration": 0.013596,
     "end_time": "2025-03-02T17:54:55.027074",
     "exception": false,
     "start_time": "2025-03-02T17:54:55.013478",
     "status": "completed"
    },
    "tags": []
   },
   "outputs": [],
   "source": [
    "logging.info(f\"Scraped info about {len(articles)} articles\")"
   ]
  },
  {
   "cell_type": "markdown",
   "id": "41576e2b",
   "metadata": {
    "papermill": {
     "duration": 0.005001,
     "end_time": "2025-03-02T17:54:55.037313",
     "exception": false,
     "start_time": "2025-03-02T17:54:55.032312",
     "status": "completed"
    },
    "tags": []
   },
   "source": [
    "## Scraping and parsing articles' texts "
   ]
  },
  {
   "cell_type": "code",
   "execution_count": null,
   "id": "f3455af1",
   "metadata": {
    "papermill": {
     "duration": 0.330239,
     "end_time": "2025-03-02T17:54:55.372924",
     "exception": false,
     "start_time": "2025-03-02T17:54:55.042685",
     "status": "completed"
    },
    "tags": []
   },
   "outputs": [],
   "source": [
    "from bs4 import BeautifulSoup"
   ]
  },
  {
   "cell_type": "code",
   "execution_count": null,
   "id": "fe051e8c",
   "metadata": {
    "papermill": {
     "duration": 5119.804231,
     "end_time": "2025-03-02T19:20:15.182143",
     "exception": false,
     "start_time": "2025-03-02T17:54:55.377912",
     "status": "completed"
    },
    "tags": []
   },
   "outputs": [],
   "source": [
    "headers_2 = {\n",
    "    \"user-agent\": user_agent.chrome\n",
    "}\n",
    "\n",
    "for article in tqdm(articles):\n",
    "    article[\"text\"] = \"\"\n",
    "    resp = requests.request(\"GET\", url=article[\"url\"], headers=headers_2)\n",
    "    if resp.status_code != 200:\n",
    "        logging.error(f\"Status code of GET to article {article['title']} is not 200\")\n",
    "        logging.error(f\"link: {article['url']}\")\n",
    "        continue\n",
    "    soup = BeautifulSoup(resp.content, \"lxml\")\n",
    "    article_body = soup.find(\"article\", class_=\"post__article\")\n",
    "    paragraphs = [str(p.text.strip()) for p in article_body.find_all([\"p\", \"h2\", \"h1\"])]\n",
    "    text = \" \".join(paragraphs)\n",
    "    article[\"text\"] = text"
   ]
  },
  {
   "cell_type": "code",
   "execution_count": null,
   "id": "7e1a45ea",
   "metadata": {
    "papermill": {
     "duration": 1.521914,
     "end_time": "2025-03-02T19:20:17.757960",
     "exception": false,
     "start_time": "2025-03-02T19:20:16.236046",
     "status": "completed"
    },
    "tags": []
   },
   "outputs": [],
   "source": [
    "with open(\"CoinTelegraph_Articles.json\", \"w\") as output_file:\n",
    "    json.dump(articles, output_file)"
   ]
  }
 ],
 "metadata": {
  "kaggle": {
   "accelerator": "none",
   "dataSources": [],
   "dockerImageVersionId": 30919,
   "isGpuEnabled": false,
   "isInternetEnabled": true,
   "language": "python",
   "sourceType": "notebook"
  },
  "kernelspec": {
   "display_name": "Python 3 (ipykernel)",
   "language": "python",
   "name": "python3"
  },
  "language_info": {
   "codemirror_mode": {
    "name": "ipython",
    "version": 3
   },
   "file_extension": ".py",
   "mimetype": "text/x-python",
   "name": "python",
   "nbconvert_exporter": "python",
   "pygments_lexer": "ipython3",
   "version": "3.10.16"
  },
  "papermill": {
   "default_parameters": {},
   "duration": 5169.613876,
   "end_time": "2025-03-02T19:20:19.624393",
   "environment_variables": {},
   "exception": null,
   "input_path": "__notebook__.ipynb",
   "output_path": "__notebook__.ipynb",
   "parameters": {},
   "start_time": "2025-03-02T17:54:10.010517",
   "version": "2.6.0"
  }
 },
 "nbformat": 4,
 "nbformat_minor": 5
}
