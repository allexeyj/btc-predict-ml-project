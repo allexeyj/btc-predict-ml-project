{
 "cells": [
  {
   "cell_type": "code",
   "execution_count": null,
   "id": "d1e83f5e",
   "metadata": {
    "papermill": {
     "duration": 5.842196,
     "end_time": "2025-03-02T19:57:35.862826",
     "exception": false,
     "start_time": "2025-03-02T19:57:30.020630",
     "status": "completed"
    },
    "tags": []
   },
   "outputs": [],
   "source": [
    "!pip install fake_useragent"
   ]
  },
  {
   "cell_type": "code",
   "execution_count": null,
   "id": "2c97bfc9",
   "metadata": {
    "papermill": {
     "duration": 1.450051,
     "end_time": "2025-03-02T19:57:37.316925",
     "exception": false,
     "start_time": "2025-03-02T19:57:35.866874",
     "status": "completed"
    },
    "tags": []
   },
   "outputs": [],
   "source": [
    "import requests\n",
    "import pandas as pd\n",
    "import time\n",
    "import json\n",
    "from fake_useragent import UserAgent\n",
    "import logging\n",
    "from tqdm import tqdm\n",
    "from bs4 import BeautifulSoup"
   ]
  },
  {
   "cell_type": "markdown",
   "id": "a9c900ed",
   "metadata": {
    "papermill": {
     "duration": 0.004061,
     "end_time": "2025-03-02T19:57:37.324824",
     "exception": false,
     "start_time": "2025-03-02T19:57:37.320763",
     "status": "completed"
    },
    "tags": []
   },
   "source": [
    "## Setting requests up"
   ]
  },
  {
   "cell_type": "code",
   "execution_count": null,
   "id": "1b2afe72",
   "metadata": {
    "papermill": {
     "duration": 0.102551,
     "end_time": "2025-03-02T19:57:37.431917",
     "exception": false,
     "start_time": "2025-03-02T19:57:37.329366",
     "status": "completed"
    },
    "tags": []
   },
   "outputs": [],
   "source": [
    "bitcoin_magazine_url = \"https://bitcoinmagazine.com/wp-admin/admin-ajax.php?td_theme_name=Newspaper&v=12.6.9\"\n",
    "\n",
    "user_agent = UserAgent()\n",
    "\n",
    "headers = {\n",
    "  'accept': '*/*',\n",
    "  'accept-language': 'en-GB,en-US;q=0.9,en;q=0.8,ru;q=0.7',\n",
    "  'content-type': 'application/x-www-form-urlencoded; charset=UTF-8',\n",
    "  'origin': 'https://bitcoinmagazine.com',\n",
    "  'priority': 'u=1, i',\n",
    "  'referer': 'https://bitcoinmagazine.com/articles',\n",
    "  'sec-fetch-dest': 'empty',\n",
    "  'sec-fetch-mode': 'cors',\n",
    "  'sec-fetch-site': 'same-origin',\n",
    "  'user-agent': user_agent.chrome,\n",
    "  'x-requested-with': 'XMLHttpRequest',\n",
    "}"
   ]
  },
  {
   "cell_type": "code",
   "execution_count": null,
   "id": "2fd42e63",
   "metadata": {
    "papermill": {
     "duration": 0.012117,
     "end_time": "2025-03-02T19:57:37.447845",
     "exception": false,
     "start_time": "2025-03-02T19:57:37.435728",
     "status": "completed"
    },
    "tags": []
   },
   "outputs": [],
   "source": [
    "def get_payload(page_number=1):\n",
    "    payload = f\"\"\"action=td_ajax_block&td_atts=%7B%22modules_on_row%22%3A%22eyJhbGwiOiIzMy4zMzMzMzMzMyUiLCJwaG9uZSI6IjEwMCUiLCJwb3J0cmFpdCI6IjUwJSJ9%22%2C%22limit%22%3A%2230%22%2C%22hide_audio%22%3A%22yes%22%2C%22block_template_id%22%3A%22%22%2C%22td_ajax_filter_type%22%3A%22%22%2C%22ajax_pagination%22%3A%22load_more%22%2C%22cat_bg%22%3A%22%23ff9500%22%2C%22f_title_font_weight%22%3A%22700%22%2C%22modules_category%22%3A%22image%22%2C%22show_com%22%3A%22none%22%2C%22show_btn%22%3A%22none%22%2C%22mc1_el%22%3A%2225%22%2C%22video_popup%22%3A%22%22%2C%22autoplay_vid%22%3A%22%22%2C%22show_vid_t%22%3A%22none%22%2C%22image_height%22%3A%2255%22%2C%22h_effect%22%3A%22up-shadow%22%2C%22block_type%22%3A%22td_flex_block_1%22%2C%22separator%22%3A%22%22%2C%22custom_title%22%3A%22%22%2C%22custom_url%22%3A%22%22%2C%22title_tag%22%3A%22%22%2C%22mc1_tl%22%3A%22%22%2C%22mc1_title_tag%22%3A%22%22%2C%22post_ids%22%3A%22%22%2C%22category_id%22%3A%22%22%2C%22taxonomies%22%3A%22%22%2C%22category_ids%22%3A%22%22%2C%22in_all_terms%22%3A%22%22%2C%22tag_slug%22%3A%22%22%2C%22autors_id%22%3A%22%22%2C%22installed_post_types%22%3A%22%22%2C%22include_cf_posts%22%3A%22%22%2C%22exclude_cf_posts%22%3A%22%22%2C%22sort%22%3A%22%22%2C%22popular_by_date%22%3A%22%22%2C%22linked_posts%22%3A%22%22%2C%22favourite_only%22%3A%22%22%2C%22offset%22%3A%22%22%2C%22open_in_new_window%22%3A%22%22%2C%22show_modified_date%22%3A%22%22%2C%22time_ago%22%3A%22%22%2C%22time_ago_add_txt%22%3A%22ago%22%2C%22time_ago_txt_pos%22%3A%22%22%2C%22review_source%22%3A%22%22%2C%22el_class%22%3A%22%22%2C%22td_query_cache%22%3A%22%22%2C%22td_query_cache_expiration%22%3A%22%22%2C%22td_ajax_filter_ids%22%3A%22%22%2C%22td_filter_default_txt%22%3A%22All%22%2C%22td_ajax_preloading%22%3A%22%22%2C%22container_width%22%3A%22%22%2C%22modules_gap%22%3A%22%22%2C%22m_padding%22%3A%22%22%2C%22all_modules_space%22%3A%2236%22%2C%22modules_border_size%22%3A%22%22%2C%22modules_border_style%22%3A%22%22%2C%22modules_border_color%22%3A%22%23eaeaea%22%2C%22modules_border_radius%22%3A%22%22%2C%22modules_divider%22%3A%22%22%2C%22modules_divider_color%22%3A%22%23eaeaea%22%2C%22image_size%22%3A%22%22%2C%22image_alignment%22%3A%2250%22%2C%22image_width%22%3A%22%22%2C%22image_floated%22%3A%22no_float%22%2C%22image_radius%22%3A%22%22%2C%22hide_image%22%3A%22%22%2C%22show_favourites%22%3A%22%22%2C%22fav_size%22%3A%222%22%2C%22fav_space%22%3A%22%22%2C%22fav_ico_color%22%3A%22%22%2C%22fav_ico_color_h%22%3A%22%22%2C%22fav_bg%22%3A%22%22%2C%22fav_bg_h%22%3A%22%22%2C%22fav_shadow_shadow_header%22%3A%22%22%2C%22fav_shadow_shadow_title%22%3A%22Shadow%22%2C%22fav_shadow_shadow_size%22%3A%22%22%2C%22fav_shadow_shadow_offset_horizontal%22%3A%22%22%2C%22fav_shadow_shadow_offset_vertical%22%3A%22%22%2C%22fav_shadow_shadow_spread%22%3A%22%22%2C%22fav_shadow_shadow_color%22%3A%22%22%2C%22video_icon%22%3A%22%22%2C%22video_rec%22%3A%22%22%2C%22spot_header%22%3A%22%22%2C%22video_rec_title%22%3A%22%22%2C%22video_rec_color%22%3A%22%22%2C%22video_rec_disable%22%3A%22%22%2C%22vid_t_margin%22%3A%22%22%2C%22vid_t_padding%22%3A%22%22%2C%22video_title_color%22%3A%22%22%2C%22video_title_color_h%22%3A%22%22%2C%22video_bg%22%3A%22%22%2C%22video_overlay%22%3A%22%22%2C%22vid_t_color%22%3A%22%22%2C%22vid_t_bg_color%22%3A%22%22%2C%22f_vid_title_font_header%22%3A%22%22%2C%22f_vid_title_font_title%22%3A%22Video+pop-up+article+title%22%2C%22f_vid_title_font_settings%22%3A%22%22%2C%22f_vid_title_font_family%22%3A%22%22%2C%22f_vid_title_font_size%22%3A%22%22%2C%22f_vid_title_font_line_height%22%3A%22%22%2C%22f_vid_title_font_style%22%3A%22%22%2C%22f_vid_title_font_weight%22%3A%22%22%2C%22f_vid_title_font_transform%22%3A%22%22%2C%22f_vid_title_font_spacing%22%3A%22%22%2C%22f_vid_title_%22%3A%22%22%2C%22f_vid_time_font_title%22%3A%22Video+duration+text%22%2C%22f_vid_time_font_settings%22%3A%22%22%2C%22f_vid_time_font_family%22%3A%22%22%2C%22f_vid_time_font_size%22%3A%22%22%2C%22f_vid_time_font_line_height%22%3A%22%22%2C%22f_vid_time_font_style%22%3A%22%22%2C%22f_vid_time_font_weight%22%3A%22%22%2C%22f_vid_time_font_transform%22%3A%22%22%2C%22f_vid_time_font_spacing%22%3A%22%22%2C%22f_vid_time_%22%3A%22%22%2C%22meta_info_align%22%3A%22%22%2C%22meta_info_horiz%22%3A%22layout-default%22%2C%22meta_width%22%3A%22%22%2C%22meta_margin%22%3A%22%22%2C%22meta_padding%22%3A%22%22%2C%22meta_space%22%3A%22%22%2C%22art_title%22%3A%22%22%2C%22art_btn%22%3A%22%22%2C%22meta_info_border_size%22%3A%22%22%2C%22meta_info_border_style%22%3A%22%22%2C%22meta_info_border_color%22%3A%22%23eaeaea%22%2C%22meta_info_border_radius%22%3A%22%22%2C%22modules_category_margin%22%3A%22%22%2C%22modules_category_padding%22%3A%22%22%2C%22modules_cat_border%22%3A%22%22%2C%22modules_category_radius%22%3A%220%22%2C%22show_cat%22%3A%22inline-block%22%2C%22modules_extra_cat%22%3A%22%22%2C%22show_author%22%3A%22inline-block%22%2C%22author_photo%22%3A%22%22%2C%22author_photo_size%22%3A%22%22%2C%22author_photo_space%22%3A%22%22%2C%22author_photo_radius%22%3A%22%22%2C%22show_date%22%3A%22inline-block%22%2C%22show_review%22%3A%22inline-block%22%2C%22review_space%22%3A%22%22%2C%22review_size%22%3A%222.5%22%2C%22review_distance%22%3A%22%22%2C%22show_excerpt%22%3A%22block%22%2C%22art_excerpt%22%3A%22%22%2C%22excerpt_col%22%3A%221%22%2C%22excerpt_gap%22%3A%22%22%2C%22excerpt_middle%22%3A%22%22%2C%22excerpt_inline%22%3A%22%22%2C%22show_audio%22%3A%22block%22%2C%22art_audio%22%3A%22%22%2C%22art_audio_size%22%3A%221.5%22%2C%22btn_title%22%3A%22%22%2C%22btn_margin%22%3A%22%22%2C%22btn_padding%22%3A%22%22%2C%22btn_border_width%22%3A%22%22%2C%22btn_radius%22%3A%22%22%2C%22pag_space%22%3A%22%22%2C%22pag_padding%22%3A%22%22%2C%22pag_border_width%22%3A%22%22%2C%22pag_border_radius%22%3A%22%22%2C%22prev_tdicon%22%3A%22%22%2C%22next_tdicon%22%3A%22%22%2C%22pag_icons_size%22%3A%22%22%2C%22f_header_font_header%22%3A%22%22%2C%22f_header_font_title%22%3A%22Block+header%22%2C%22f_header_font_settings%22%3A%22%22%2C%22f_header_font_family%22%3A%22%22%2C%22f_header_font_size%22%3A%22%22%2C%22f_header_font_line_height%22%3A%22%22%2C%22f_header_font_style%22%3A%22%22%2C%22f_header_font_weight%22%3A%22%22%2C%22f_header_font_transform%22%3A%22%22%2C%22f_header_font_spacing%22%3A%22%22%2C%22f_header_%22%3A%22%22%2C%22f_ajax_font_title%22%3A%22Ajax+categories%22%2C%22f_ajax_font_settings%22%3A%22%22%2C%22f_ajax_font_family%22%3A%22%22%2C%22f_ajax_font_size%22%3A%22%22%2C%22f_ajax_font_line_height%22%3A%22%22%2C%22f_ajax_font_style%22%3A%22%22%2C%22f_ajax_font_weight%22%3A%22%22%2C%22f_ajax_font_transform%22%3A%22%22%2C%22f_ajax_font_spacing%22%3A%22%22%2C%22f_ajax_%22%3A%22%22%2C%22f_more_font_title%22%3A%22Load+more+button%22%2C%22f_more_font_settings%22%3A%22%22%2C%22f_more_font_family%22%3A%22%22%2C%22f_more_font_size%22%3A%22%22%2C%22f_more_font_line_height%22%3A%22%22%2C%22f_more_font_style%22%3A%22%22%2C%22f_more_font_weight%22%3A%22%22%2C%22f_more_font_transform%22%3A%22%22%2C%22f_more_font_spacing%22%3A%22%22%2C%22f_more_%22%3A%22%22%2C%22f_title_font_header%22%3A%22%22%2C%22f_title_font_title%22%3A%22Article+title%22%2C%22f_title_font_settings%22%3A%22%22%2C%22f_title_font_family%22%3A%22%22%2C%22f_title_font_size%22%3A%22%22%2C%22f_title_font_line_height%22%3A%22%22%2C%22f_title_font_style%22%3A%22%22%2C%22f_title_font_transform%22%3A%22%22%2C%22f_title_font_spacing%22%3A%22%22%2C%22f_title_%22%3A%22%22%2C%22f_cat_font_title%22%3A%22Article+category+tag%22%2C%22f_cat_font_settings%22%3A%22%22%2C%22f_cat_font_family%22%3A%22%22%2C%22f_cat_font_size%22%3A%22%22%2C%22f_cat_font_line_height%22%3A%22%22%2C%22f_cat_font_style%22%3A%22%22%2C%22f_cat_font_weight%22%3A%22%22%2C%22f_cat_font_transform%22%3A%22%22%2C%22f_cat_font_spacing%22%3A%22%22%2C%22f_cat_%22%3A%22%22%2C%22f_meta_font_title%22%3A%22Article+meta+info%22%2C%22f_meta_font_settings%22%3A%22%22%2C%22f_meta_font_family%22%3A%22%22%2C%22f_meta_font_size%22%3A%22%22%2C%22f_meta_font_line_height%22%3A%22%22%2C%22f_meta_font_style%22%3A%22%22%2C%22f_meta_font_weight%22%3A%22%22%2C%22f_meta_font_transform%22%3A%22%22%2C%22f_meta_font_spacing%22%3A%22%22%2C%22f_meta_%22%3A%22%22%2C%22f_ex_font_title%22%3A%22Article+excerpt%22%2C%22f_ex_font_settings%22%3A%22%22%2C%22f_ex_font_family%22%3A%22%22%2C%22f_ex_font_size%22%3A%22%22%2C%22f_ex_font_line_height%22%3A%22%22%2C%22f_ex_font_style%22%3A%22%22%2C%22f_ex_font_weight%22%3A%22%22%2C%22f_ex_font_transform%22%3A%22%22%2C%22f_ex_font_spacing%22%3A%22%22%2C%22f_ex_%22%3A%22%22%2C%22f_btn_font_title%22%3A%22Article+read+more+button%22%2C%22f_btn_font_settings%22%3A%22%22%2C%22f_btn_font_family%22%3A%22%22%2C%22f_btn_font_size%22%3A%22%22%2C%22f_btn_font_line_height%22%3A%22%22%2C%22f_btn_font_style%22%3A%22%22%2C%22f_btn_font_weight%22%3A%22%22%2C%22f_btn_font_transform%22%3A%22%22%2C%22f_btn_font_spacing%22%3A%22%22%2C%22f_btn_%22%3A%22%22%2C%22mix_color%22%3A%22%22%2C%22mix_type%22%3A%22%22%2C%22fe_brightness%22%3A%221%22%2C%22fe_contrast%22%3A%221%22%2C%22fe_saturate%22%3A%221%22%2C%22mix_color_h%22%3A%22%22%2C%22mix_type_h%22%3A%22%22%2C%22fe_brightness_h%22%3A%221%22%2C%22fe_contrast_h%22%3A%221%22%2C%22fe_saturate_h%22%3A%221%22%2C%22m_bg%22%3A%22%22%2C%22color_overlay%22%3A%22%22%2C%22shadow_shadow_header%22%3A%22%22%2C%22shadow_shadow_title%22%3A%22Module+Shadow%22%2C%22shadow_shadow_size%22%3A%22%22%2C%22shadow_shadow_offset_horizontal%22%3A%22%22%2C%22shadow_shadow_offset_vertical%22%3A%22%22%2C%22shadow_shadow_spread%22%3A%22%22%2C%22shadow_shadow_color%22%3A%22%22%2C%22title_txt%22%3A%22%22%2C%22title_txt_hover%22%3A%22%22%2C%22all_underline_height%22%3A%22%22%2C%22all_underline_color%22%3A%22%22%2C%22cat_style%22%3A%22%22%2C%22cat_bg_hover%22%3A%22%22%2C%22cat_txt%22%3A%22%22%2C%22cat_txt_hover%22%3A%22%22%2C%22cat_border%22%3A%22%22%2C%22cat_border_hover%22%3A%22%22%2C%22meta_bg%22%3A%22%22%2C%22author_txt%22%3A%22%22%2C%22author_txt_hover%22%3A%22%22%2C%22date_txt%22%3A%22%22%2C%22ex_txt%22%3A%22%22%2C%22com_bg%22%3A%22%22%2C%22com_txt%22%3A%22%22%2C%22rev_txt%22%3A%22%22%2C%22audio_btn_color%22%3A%22%22%2C%22audio_time_color%22%3A%22%22%2C%22audio_bar_color%22%3A%22%22%2C%22audio_bar_curr_color%22%3A%22%22%2C%22shadow_m_shadow_header%22%3A%22%22%2C%22shadow_m_shadow_title%22%3A%22Meta+info+shadow%22%2C%22shadow_m_shadow_size%22%3A%22%22%2C%22shadow_m_shadow_offset_horizontal%22%3A%22%22%2C%22shadow_m_shadow_offset_vertical%22%3A%22%22%2C%22shadow_m_shadow_spread%22%3A%22%22%2C%22shadow_m_shadow_color%22%3A%22%22%2C%22btn_bg%22%3A%22%22%2C%22btn_bg_hover%22%3A%22%22%2C%22btn_txt%22%3A%22%22%2C%22btn_txt_hover%22%3A%22%22%2C%22btn_border%22%3A%22%22%2C%22btn_border_hover%22%3A%22%22%2C%22pag_text%22%3A%22%22%2C%22pag_h_text%22%3A%22%22%2C%22pag_bg%22%3A%22%22%2C%22pag_h_bg%22%3A%22%22%2C%22pag_border%22%3A%22%22%2C%22pag_h_border%22%3A%22%22%2C%22ajax_pagination_next_prev_swipe%22%3A%22%22%2C%22ajax_pagination_infinite_stop%22%3A%22%22%2C%22css%22%3A%22%22%2C%22tdc_css%22%3A%22%22%2C%22td_column_number%22%3A3%2C%22header_color%22%3A%22%22%2C%22color_preset%22%3A%22%22%2C%22border_top%22%3A%22%22%2C%22class%22%3A%22tdi_52%22%2C%22tdc_css_class%22%3A%22tdi_52%22%2C%22tdc_css_class_style%22%3A%22tdi_52_rand_style%22%7D&td_block_id=tdi_52&td_column_number=3&td_current_page={page_number}&block_type=td_flex_block_1&td_filter_value=&td_user_action=&td_magic_token=2867c758c0\"\"\"\n",
    "    return payload"
   ]
  },
  {
   "cell_type": "markdown",
   "id": "9a1c4ed1",
   "metadata": {
    "papermill": {
     "duration": 0.003326,
     "end_time": "2025-03-02T19:57:37.455354",
     "exception": false,
     "start_time": "2025-03-02T19:57:37.452028",
     "status": "completed"
    },
    "tags": []
   },
   "source": [
    "## Scraping articles' urls from https://bitcoinmagazine.com/articles"
   ]
  },
  {
   "cell_type": "code",
   "execution_count": null,
   "id": "dfc23897",
   "metadata": {
    "papermill": {
     "duration": 3.768498,
     "end_time": "2025-03-02T19:57:41.227289",
     "exception": false,
     "start_time": "2025-03-02T19:57:37.458791",
     "status": "completed"
    },
    "tags": []
   },
   "outputs": [],
   "source": [
    "articles_urls = []\n",
    "\n",
    "number_pages = 200\n",
    "\n",
    "for page in tqdm(range(1, number_pages + 1)):\n",
    "    payload = get_payload(page)\n",
    "    resp = requests.request(\"POST\", bitcoin_magazine_url, headers=headers, data=payload)\n",
    "    assert resp.status_code == 200\n",
    "    soup = BeautifulSoup(resp.content)\n",
    "    h3_tags = soup.find_all(\"h3\")\n",
    "    for h3 in h3_tags:\n",
    "        article_url = h3.find(\"a\")[\"href\"].replace(\"\\\\\", \"\").replace('\"', '')\n",
    "        articles_urls.append(article_url)\n",
    "\n",
    "print(f\"Scraped urls of {len(articles_urls)} articles\")"
   ]
  },
  {
   "cell_type": "markdown",
   "id": "ca2f0aba",
   "metadata": {
    "papermill": {
     "duration": 0.004139,
     "end_time": "2025-03-02T19:57:41.235756",
     "exception": false,
     "start_time": "2025-03-02T19:57:41.231617",
     "status": "completed"
    },
    "tags": []
   },
   "source": [
    "## Scraping and parsing data about every article"
   ]
  },
  {
   "cell_type": "code",
   "execution_count": null,
   "id": "1977fffa",
   "metadata": {
    "papermill": {
     "duration": 0.024216,
     "end_time": "2025-03-02T19:57:41.263800",
     "exception": false,
     "start_time": "2025-03-02T19:57:41.239584",
     "status": "completed"
    },
    "tags": []
   },
   "outputs": [],
   "source": [
    "headers_article = {\n",
    "    \"user-agent\": user_agent.chrome\n",
    "}"
   ]
  },
  {
   "cell_type": "code",
   "execution_count": null,
   "id": "8f4b2d6f",
   "metadata": {
    "papermill": {
     "duration": 0.014465,
     "end_time": "2025-03-02T19:57:41.282784",
     "exception": false,
     "start_time": "2025-03-02T19:57:41.268319",
     "status": "completed"
    },
    "tags": []
   },
   "outputs": [],
   "source": [
    "def parse_article(url):\n",
    "    resp = requests.request(\"GET\", url, headers=headers_article)\n",
    "    assert resp.status_code == 200\n",
    "    soup = BeautifulSoup(resp.content)\n",
    "    head_tag = soup.find(\"head\")\n",
    "    article_tag = soup.find(\"article\")\n",
    "    title = head_tag.find(\"title\").text.strip()\n",
    "    published_time = soup.find(\"meta\", property=\"article:published_time\")[\"content\"].strip()\n",
    "    paragraphs = article_tag.find_all(\"p\")\n",
    "    text = \" \".join([p.text.strip() for p in paragraphs])\n",
    "    \n",
    "    article = {\n",
    "        \"title\": title,\n",
    "        \"url\": url,\n",
    "        \"published_time\": published_time,\n",
    "        \"text\": text,\n",
    "    }\n",
    "    return article"
   ]
  },
  {
   "cell_type": "code",
   "execution_count": null,
   "id": "9d06390b",
   "metadata": {
    "papermill": {
     "duration": 8.472208,
     "end_time": "2025-03-02T19:57:49.759071",
     "exception": false,
     "start_time": "2025-03-02T19:57:41.286863",
     "status": "completed"
    },
    "tags": []
   },
   "outputs": [],
   "source": [
    "articles = []\n",
    "\n",
    "for url in tqdm(articles_urls):\n",
    "    article = parse_article(url)\n",
    "    articles.append(article)"
   ]
  },
  {
   "cell_type": "code",
   "execution_count": null,
   "id": "4388abfa",
   "metadata": {
    "papermill": {
     "duration": 0.0176,
     "end_time": "2025-03-02T19:57:49.784554",
     "exception": false,
     "start_time": "2025-03-02T19:57:49.766954",
     "status": "completed"
    },
    "tags": []
   },
   "outputs": [],
   "source": [
    "with open(\"BitcoinMagazine_Articles.json\", \"w\") as output_file:\n",
    "    json.dump(articles, output_file)"
   ]
  }
 ],
 "metadata": {
  "kaggle": {
   "accelerator": "none",
   "dataSources": [],
   "dockerImageVersionId": 30918,
   "isGpuEnabled": false,
   "isInternetEnabled": true,
   "language": "python",
   "sourceType": "notebook"
  },
  "kernelspec": {
   "display_name": "Python 3 (ipykernel)",
   "language": "python",
   "name": "python3"
  },
  "language_info": {
   "codemirror_mode": {
    "name": "ipython",
    "version": 3
   },
   "file_extension": ".py",
   "mimetype": "text/x-python",
   "name": "python",
   "nbconvert_exporter": "python",
   "pygments_lexer": "ipython3",
   "version": "3.10.16"
  },
  "papermill": {
   "default_parameters": {},
   "duration": 23.421695,
   "end_time": "2025-03-02T19:57:50.512479",
   "environment_variables": {},
   "exception": null,
   "input_path": "__notebook__.ipynb",
   "output_path": "__notebook__.ipynb",
   "parameters": {},
   "start_time": "2025-03-02T19:57:27.090784",
   "version": "2.6.0"
  }
 },
 "nbformat": 4,
 "nbformat_minor": 5
}
