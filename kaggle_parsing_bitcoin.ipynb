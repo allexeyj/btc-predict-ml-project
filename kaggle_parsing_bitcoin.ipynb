{
  "nbformat": 4,
  "nbformat_minor": 0,
  "metadata": {
    "colab": {
      "provenance": []
    },
    "kernelspec": {
      "name": "python3",
      "display_name": "Python 3"
    },
    "language_info": {
      "name": "python"
    }
  },
  "cells": [
    {
      "cell_type": "code",
      "execution_count": 79,
      "metadata": {
        "id": "G7aMfxSeCzTS",
        "colab": {
          "base_uri": "https://localhost:8080/"
        },
        "outputId": "961a6881-52f5-49ea-cb25-78f55ac50290"
      },
      "outputs": [
        {
          "output_type": "stream",
          "name": "stdout",
          "text": [
            "Requirement already satisfied: kagglehub in /usr/local/lib/python3.11/dist-packages (0.3.10)\n",
            "Requirement already satisfied: packaging in /usr/local/lib/python3.11/dist-packages (from kagglehub) (24.2)\n",
            "Requirement already satisfied: pyyaml in /usr/local/lib/python3.11/dist-packages (from kagglehub) (6.0.2)\n",
            "Requirement already satisfied: requests in /usr/local/lib/python3.11/dist-packages (from kagglehub) (2.32.3)\n",
            "Requirement already satisfied: tqdm in /usr/local/lib/python3.11/dist-packages (from kagglehub) (4.67.1)\n",
            "Requirement already satisfied: charset-normalizer<4,>=2 in /usr/local/lib/python3.11/dist-packages (from requests->kagglehub) (3.4.1)\n",
            "Requirement already satisfied: idna<4,>=2.5 in /usr/local/lib/python3.11/dist-packages (from requests->kagglehub) (3.10)\n",
            "Requirement already satisfied: urllib3<3,>=1.21.1 in /usr/local/lib/python3.11/dist-packages (from requests->kagglehub) (2.3.0)\n",
            "Requirement already satisfied: certifi>=2017.4.17 in /usr/local/lib/python3.11/dist-packages (from requests->kagglehub) (2025.1.31)\n"
          ]
        }
      ],
      "source": [
        "!pip install kagglehub"
      ]
    },
    {
      "cell_type": "code",
      "source": [
        "import pandas as pd\n",
        "import kagglehub\n",
        "import os\n",
        "import re\n",
        "import numpy as np\n",
        "import json\n",
        "import datetime"
      ],
      "metadata": {
        "id": "600IsQJKC47a"
      },
      "execution_count": 80,
      "outputs": []
    },
    {
      "cell_type": "markdown",
      "source": [
        "# Парсинг первого датасета"
      ],
      "metadata": {
        "id": "0Q_1Pe9UdgXZ"
      }
    },
    {
      "cell_type": "code",
      "source": [
        "file_path = kagglehub.dataset_download(\n",
        "  \"thedevastator/uncovering-user-perspectives-on-bitcoin-through\")"
      ],
      "metadata": {
        "id": "zjX-0a5cDN5G"
      },
      "execution_count": 81,
      "outputs": []
    },
    {
      "cell_type": "code",
      "source": [
        "file_path += '/Bitcoin.csv'"
      ],
      "metadata": {
        "id": "_wpVhZ6pHpUz"
      },
      "execution_count": 82,
      "outputs": []
    },
    {
      "cell_type": "code",
      "source": [
        "df = pd.read_csv(file_path)"
      ],
      "metadata": {
        "id": "lcb7m6icJh9_"
      },
      "execution_count": 89,
      "outputs": []
    },
    {
      "cell_type": "code",
      "source": [
        "df.columns"
      ],
      "metadata": {
        "id": "HAZqk6UOJk9F",
        "colab": {
          "base_uri": "https://localhost:8080/"
        },
        "outputId": "d13b1d13-40a2-4277-e5bf-7deafafc0998"
      },
      "execution_count": 90,
      "outputs": [
        {
          "output_type": "execute_result",
          "data": {
            "text/plain": [
              "Index(['title', 'score', 'id', 'url', 'comms_num', 'created', 'body',\n",
              "       'timestamp'],\n",
              "      dtype='object')"
            ]
          },
          "metadata": {},
          "execution_count": 90
        }
      ]
    },
    {
      "cell_type": "code",
      "source": [
        "df = df[['title', 'score', 'timestamp', 'body']]\n",
        "df.columns = ['title', 'upvotes', 'date', 'text']\n",
        "df = df.reindex(columns=df.columns.to_list() + ['upvote_ratio'])"
      ],
      "metadata": {
        "id": "Udpf9FcLN1ut"
      },
      "execution_count": 91,
      "outputs": []
    },
    {
      "cell_type": "code",
      "source": [
        "df"
      ],
      "metadata": {
        "id": "r8hH70UlOZ22",
        "colab": {
          "base_uri": "https://localhost:8080/",
          "height": 423
        },
        "outputId": "a5861741-18e1-4ddf-9d3a-f51b515b58f5"
      },
      "execution_count": 92,
      "outputs": [
        {
          "output_type": "execute_result",
          "data": {
            "text/plain": [
              "                                                  title  upvotes  \\\n",
              "0     Can someone help explain to me how and why a l...        1   \n",
              "1                                      Bitcoin is King…        2   \n",
              "2     The FTX disaster has set back crypto by ‘years...        0   \n",
              "3     Will the loss of more Bitcoins over time resul...        5   \n",
              "4     Experts Say Sam Bankman-Fried's Best Legal Def...       21   \n",
              "...                                                 ...      ...   \n",
              "1892                                            Comment        2   \n",
              "1893                                            Comment        1   \n",
              "1894                                            Comment        1   \n",
              "1895                                            Comment        3   \n",
              "1896                                            Comment        1   \n",
              "\n",
              "                     date                                               text  \\\n",
              "0     2022-12-19 06:43:02  [https://mempool.space/block/00000000000000000...   \n",
              "1     2022-12-19 06:19:25  Once you understand #bitcoin and truly underst...   \n",
              "2     2022-12-19 05:59:53  As reported by [CNBC](https://www.cnbc.com/202...   \n",
              "3     2022-12-19 05:53:33  As more people accept Bitcoin and more Bitcoin...   \n",
              "4     2022-12-19 05:45:47                                                NaN   \n",
              "...                   ...                                                ...   \n",
              "1892  2022-12-18 23:32:42                               I would be LIVID!!!!   \n",
              "1893  2022-12-18 23:32:34  Homie doesn’t know how the bank works. \\nHomie...   \n",
              "1894  2022-12-18 23:32:22               He's using muun wallet, wonderful 👍👍   \n",
              "1895  2022-12-18 23:32:09  Sure it's not practical, and I think that it's...   \n",
              "1896  2022-12-18 23:31:59  Merchant passing through scheme fee to you, th...   \n",
              "\n",
              "      upvote_ratio  \n",
              "0              NaN  \n",
              "1              NaN  \n",
              "2              NaN  \n",
              "3              NaN  \n",
              "4              NaN  \n",
              "...            ...  \n",
              "1892           NaN  \n",
              "1893           NaN  \n",
              "1894           NaN  \n",
              "1895           NaN  \n",
              "1896           NaN  \n",
              "\n",
              "[1897 rows x 5 columns]"
            ],
            "text/html": [
              "\n",
              "  <div id=\"df-576adc51-3bb4-4154-9fb3-31fdb3155214\" class=\"colab-df-container\">\n",
              "    <div>\n",
              "<style scoped>\n",
              "    .dataframe tbody tr th:only-of-type {\n",
              "        vertical-align: middle;\n",
              "    }\n",
              "\n",
              "    .dataframe tbody tr th {\n",
              "        vertical-align: top;\n",
              "    }\n",
              "\n",
              "    .dataframe thead th {\n",
              "        text-align: right;\n",
              "    }\n",
              "</style>\n",
              "<table border=\"1\" class=\"dataframe\">\n",
              "  <thead>\n",
              "    <tr style=\"text-align: right;\">\n",
              "      <th></th>\n",
              "      <th>title</th>\n",
              "      <th>upvotes</th>\n",
              "      <th>date</th>\n",
              "      <th>text</th>\n",
              "      <th>upvote_ratio</th>\n",
              "    </tr>\n",
              "  </thead>\n",
              "  <tbody>\n",
              "    <tr>\n",
              "      <th>0</th>\n",
              "      <td>Can someone help explain to me how and why a l...</td>\n",
              "      <td>1</td>\n",
              "      <td>2022-12-19 06:43:02</td>\n",
              "      <td>[https://mempool.space/block/00000000000000000...</td>\n",
              "      <td>NaN</td>\n",
              "    </tr>\n",
              "    <tr>\n",
              "      <th>1</th>\n",
              "      <td>Bitcoin is King…</td>\n",
              "      <td>2</td>\n",
              "      <td>2022-12-19 06:19:25</td>\n",
              "      <td>Once you understand #bitcoin and truly underst...</td>\n",
              "      <td>NaN</td>\n",
              "    </tr>\n",
              "    <tr>\n",
              "      <th>2</th>\n",
              "      <td>The FTX disaster has set back crypto by ‘years...</td>\n",
              "      <td>0</td>\n",
              "      <td>2022-12-19 05:59:53</td>\n",
              "      <td>As reported by [CNBC](https://www.cnbc.com/202...</td>\n",
              "      <td>NaN</td>\n",
              "    </tr>\n",
              "    <tr>\n",
              "      <th>3</th>\n",
              "      <td>Will the loss of more Bitcoins over time resul...</td>\n",
              "      <td>5</td>\n",
              "      <td>2022-12-19 05:53:33</td>\n",
              "      <td>As more people accept Bitcoin and more Bitcoin...</td>\n",
              "      <td>NaN</td>\n",
              "    </tr>\n",
              "    <tr>\n",
              "      <th>4</th>\n",
              "      <td>Experts Say Sam Bankman-Fried's Best Legal Def...</td>\n",
              "      <td>21</td>\n",
              "      <td>2022-12-19 05:45:47</td>\n",
              "      <td>NaN</td>\n",
              "      <td>NaN</td>\n",
              "    </tr>\n",
              "    <tr>\n",
              "      <th>...</th>\n",
              "      <td>...</td>\n",
              "      <td>...</td>\n",
              "      <td>...</td>\n",
              "      <td>...</td>\n",
              "      <td>...</td>\n",
              "    </tr>\n",
              "    <tr>\n",
              "      <th>1892</th>\n",
              "      <td>Comment</td>\n",
              "      <td>2</td>\n",
              "      <td>2022-12-18 23:32:42</td>\n",
              "      <td>I would be LIVID!!!!</td>\n",
              "      <td>NaN</td>\n",
              "    </tr>\n",
              "    <tr>\n",
              "      <th>1893</th>\n",
              "      <td>Comment</td>\n",
              "      <td>1</td>\n",
              "      <td>2022-12-18 23:32:34</td>\n",
              "      <td>Homie doesn’t know how the bank works. \\nHomie...</td>\n",
              "      <td>NaN</td>\n",
              "    </tr>\n",
              "    <tr>\n",
              "      <th>1894</th>\n",
              "      <td>Comment</td>\n",
              "      <td>1</td>\n",
              "      <td>2022-12-18 23:32:22</td>\n",
              "      <td>He's using muun wallet, wonderful 👍👍</td>\n",
              "      <td>NaN</td>\n",
              "    </tr>\n",
              "    <tr>\n",
              "      <th>1895</th>\n",
              "      <td>Comment</td>\n",
              "      <td>3</td>\n",
              "      <td>2022-12-18 23:32:09</td>\n",
              "      <td>Sure it's not practical, and I think that it's...</td>\n",
              "      <td>NaN</td>\n",
              "    </tr>\n",
              "    <tr>\n",
              "      <th>1896</th>\n",
              "      <td>Comment</td>\n",
              "      <td>1</td>\n",
              "      <td>2022-12-18 23:31:59</td>\n",
              "      <td>Merchant passing through scheme fee to you, th...</td>\n",
              "      <td>NaN</td>\n",
              "    </tr>\n",
              "  </tbody>\n",
              "</table>\n",
              "<p>1897 rows × 5 columns</p>\n",
              "</div>\n",
              "    <div class=\"colab-df-buttons\">\n",
              "\n",
              "  <div class=\"colab-df-container\">\n",
              "    <button class=\"colab-df-convert\" onclick=\"convertToInteractive('df-576adc51-3bb4-4154-9fb3-31fdb3155214')\"\n",
              "            title=\"Convert this dataframe to an interactive table.\"\n",
              "            style=\"display:none;\">\n",
              "\n",
              "  <svg xmlns=\"http://www.w3.org/2000/svg\" height=\"24px\" viewBox=\"0 -960 960 960\">\n",
              "    <path d=\"M120-120v-720h720v720H120Zm60-500h600v-160H180v160Zm220 220h160v-160H400v160Zm0 220h160v-160H400v160ZM180-400h160v-160H180v160Zm440 0h160v-160H620v160ZM180-180h160v-160H180v160Zm440 0h160v-160H620v160Z\"/>\n",
              "  </svg>\n",
              "    </button>\n",
              "\n",
              "  <style>\n",
              "    .colab-df-container {\n",
              "      display:flex;\n",
              "      gap: 12px;\n",
              "    }\n",
              "\n",
              "    .colab-df-convert {\n",
              "      background-color: #E8F0FE;\n",
              "      border: none;\n",
              "      border-radius: 50%;\n",
              "      cursor: pointer;\n",
              "      display: none;\n",
              "      fill: #1967D2;\n",
              "      height: 32px;\n",
              "      padding: 0 0 0 0;\n",
              "      width: 32px;\n",
              "    }\n",
              "\n",
              "    .colab-df-convert:hover {\n",
              "      background-color: #E2EBFA;\n",
              "      box-shadow: 0px 1px 2px rgba(60, 64, 67, 0.3), 0px 1px 3px 1px rgba(60, 64, 67, 0.15);\n",
              "      fill: #174EA6;\n",
              "    }\n",
              "\n",
              "    .colab-df-buttons div {\n",
              "      margin-bottom: 4px;\n",
              "    }\n",
              "\n",
              "    [theme=dark] .colab-df-convert {\n",
              "      background-color: #3B4455;\n",
              "      fill: #D2E3FC;\n",
              "    }\n",
              "\n",
              "    [theme=dark] .colab-df-convert:hover {\n",
              "      background-color: #434B5C;\n",
              "      box-shadow: 0px 1px 3px 1px rgba(0, 0, 0, 0.15);\n",
              "      filter: drop-shadow(0px 1px 2px rgba(0, 0, 0, 0.3));\n",
              "      fill: #FFFFFF;\n",
              "    }\n",
              "  </style>\n",
              "\n",
              "    <script>\n",
              "      const buttonEl =\n",
              "        document.querySelector('#df-576adc51-3bb4-4154-9fb3-31fdb3155214 button.colab-df-convert');\n",
              "      buttonEl.style.display =\n",
              "        google.colab.kernel.accessAllowed ? 'block' : 'none';\n",
              "\n",
              "      async function convertToInteractive(key) {\n",
              "        const element = document.querySelector('#df-576adc51-3bb4-4154-9fb3-31fdb3155214');\n",
              "        const dataTable =\n",
              "          await google.colab.kernel.invokeFunction('convertToInteractive',\n",
              "                                                    [key], {});\n",
              "        if (!dataTable) return;\n",
              "\n",
              "        const docLinkHtml = 'Like what you see? Visit the ' +\n",
              "          '<a target=\"_blank\" href=https://colab.research.google.com/notebooks/data_table.ipynb>data table notebook</a>'\n",
              "          + ' to learn more about interactive tables.';\n",
              "        element.innerHTML = '';\n",
              "        dataTable['output_type'] = 'display_data';\n",
              "        await google.colab.output.renderOutput(dataTable, element);\n",
              "        const docLink = document.createElement('div');\n",
              "        docLink.innerHTML = docLinkHtml;\n",
              "        element.appendChild(docLink);\n",
              "      }\n",
              "    </script>\n",
              "  </div>\n",
              "\n",
              "\n",
              "<div id=\"df-b7ed772f-1b8f-4531-80c0-bcb186a9ce67\">\n",
              "  <button class=\"colab-df-quickchart\" onclick=\"quickchart('df-b7ed772f-1b8f-4531-80c0-bcb186a9ce67')\"\n",
              "            title=\"Suggest charts\"\n",
              "            style=\"display:none;\">\n",
              "\n",
              "<svg xmlns=\"http://www.w3.org/2000/svg\" height=\"24px\"viewBox=\"0 0 24 24\"\n",
              "     width=\"24px\">\n",
              "    <g>\n",
              "        <path d=\"M19 3H5c-1.1 0-2 .9-2 2v14c0 1.1.9 2 2 2h14c1.1 0 2-.9 2-2V5c0-1.1-.9-2-2-2zM9 17H7v-7h2v7zm4 0h-2V7h2v10zm4 0h-2v-4h2v4z\"/>\n",
              "    </g>\n",
              "</svg>\n",
              "  </button>\n",
              "\n",
              "<style>\n",
              "  .colab-df-quickchart {\n",
              "      --bg-color: #E8F0FE;\n",
              "      --fill-color: #1967D2;\n",
              "      --hover-bg-color: #E2EBFA;\n",
              "      --hover-fill-color: #174EA6;\n",
              "      --disabled-fill-color: #AAA;\n",
              "      --disabled-bg-color: #DDD;\n",
              "  }\n",
              "\n",
              "  [theme=dark] .colab-df-quickchart {\n",
              "      --bg-color: #3B4455;\n",
              "      --fill-color: #D2E3FC;\n",
              "      --hover-bg-color: #434B5C;\n",
              "      --hover-fill-color: #FFFFFF;\n",
              "      --disabled-bg-color: #3B4455;\n",
              "      --disabled-fill-color: #666;\n",
              "  }\n",
              "\n",
              "  .colab-df-quickchart {\n",
              "    background-color: var(--bg-color);\n",
              "    border: none;\n",
              "    border-radius: 50%;\n",
              "    cursor: pointer;\n",
              "    display: none;\n",
              "    fill: var(--fill-color);\n",
              "    height: 32px;\n",
              "    padding: 0;\n",
              "    width: 32px;\n",
              "  }\n",
              "\n",
              "  .colab-df-quickchart:hover {\n",
              "    background-color: var(--hover-bg-color);\n",
              "    box-shadow: 0 1px 2px rgba(60, 64, 67, 0.3), 0 1px 3px 1px rgba(60, 64, 67, 0.15);\n",
              "    fill: var(--button-hover-fill-color);\n",
              "  }\n",
              "\n",
              "  .colab-df-quickchart-complete:disabled,\n",
              "  .colab-df-quickchart-complete:disabled:hover {\n",
              "    background-color: var(--disabled-bg-color);\n",
              "    fill: var(--disabled-fill-color);\n",
              "    box-shadow: none;\n",
              "  }\n",
              "\n",
              "  .colab-df-spinner {\n",
              "    border: 2px solid var(--fill-color);\n",
              "    border-color: transparent;\n",
              "    border-bottom-color: var(--fill-color);\n",
              "    animation:\n",
              "      spin 1s steps(1) infinite;\n",
              "  }\n",
              "\n",
              "  @keyframes spin {\n",
              "    0% {\n",
              "      border-color: transparent;\n",
              "      border-bottom-color: var(--fill-color);\n",
              "      border-left-color: var(--fill-color);\n",
              "    }\n",
              "    20% {\n",
              "      border-color: transparent;\n",
              "      border-left-color: var(--fill-color);\n",
              "      border-top-color: var(--fill-color);\n",
              "    }\n",
              "    30% {\n",
              "      border-color: transparent;\n",
              "      border-left-color: var(--fill-color);\n",
              "      border-top-color: var(--fill-color);\n",
              "      border-right-color: var(--fill-color);\n",
              "    }\n",
              "    40% {\n",
              "      border-color: transparent;\n",
              "      border-right-color: var(--fill-color);\n",
              "      border-top-color: var(--fill-color);\n",
              "    }\n",
              "    60% {\n",
              "      border-color: transparent;\n",
              "      border-right-color: var(--fill-color);\n",
              "    }\n",
              "    80% {\n",
              "      border-color: transparent;\n",
              "      border-right-color: var(--fill-color);\n",
              "      border-bottom-color: var(--fill-color);\n",
              "    }\n",
              "    90% {\n",
              "      border-color: transparent;\n",
              "      border-bottom-color: var(--fill-color);\n",
              "    }\n",
              "  }\n",
              "</style>\n",
              "\n",
              "  <script>\n",
              "    async function quickchart(key) {\n",
              "      const quickchartButtonEl =\n",
              "        document.querySelector('#' + key + ' button');\n",
              "      quickchartButtonEl.disabled = true;  // To prevent multiple clicks.\n",
              "      quickchartButtonEl.classList.add('colab-df-spinner');\n",
              "      try {\n",
              "        const charts = await google.colab.kernel.invokeFunction(\n",
              "            'suggestCharts', [key], {});\n",
              "      } catch (error) {\n",
              "        console.error('Error during call to suggestCharts:', error);\n",
              "      }\n",
              "      quickchartButtonEl.classList.remove('colab-df-spinner');\n",
              "      quickchartButtonEl.classList.add('colab-df-quickchart-complete');\n",
              "    }\n",
              "    (() => {\n",
              "      let quickchartButtonEl =\n",
              "        document.querySelector('#df-b7ed772f-1b8f-4531-80c0-bcb186a9ce67 button');\n",
              "      quickchartButtonEl.style.display =\n",
              "        google.colab.kernel.accessAllowed ? 'block' : 'none';\n",
              "    })();\n",
              "  </script>\n",
              "</div>\n",
              "    </div>\n",
              "  </div>\n"
            ],
            "application/vnd.google.colaboratory.intrinsic+json": {
              "type": "dataframe",
              "variable_name": "df",
              "summary": "{\n  \"name\": \"df\",\n  \"rows\": 1897,\n  \"fields\": [\n    {\n      \"column\": \"title\",\n      \"properties\": {\n        \"dtype\": \"string\",\n        \"num_unique_values\": 992,\n        \"samples\": [\n          \"legacy vs native segwit\",\n          \"Best place to buy btc?\",\n          \"Binance is tanking., strengthening Bitcoin.\"\n        ],\n        \"semantic_type\": \"\",\n        \"description\": \"\"\n      }\n    },\n    {\n      \"column\": \"upvotes\",\n      \"properties\": {\n        \"dtype\": \"number\",\n        \"std\": 227,\n        \"min\": -9,\n        \"max\": 4304,\n        \"num_unique_values\": 201,\n        \"samples\": [\n          137,\n          13,\n          1081\n        ],\n        \"semantic_type\": \"\",\n        \"description\": \"\"\n      }\n    },\n    {\n      \"column\": \"date\",\n      \"properties\": {\n        \"dtype\": \"object\",\n        \"num_unique_values\": 1879,\n        \"samples\": [\n          \"2022-12-19 05:32:14\",\n          \"2022-12-19 02:21:10\",\n          \"2022-12-19 03:20:47\"\n        ],\n        \"semantic_type\": \"\",\n        \"description\": \"\"\n      }\n    },\n    {\n      \"column\": \"text\",\n      \"properties\": {\n        \"dtype\": \"string\",\n        \"num_unique_values\": 1464,\n        \"samples\": [\n          \"but we all getting lambos still, right?\",\n          \"Are there any similarities?\",\n          \"Basically title. A place to buy $1-$10 worth of BTC that sends bought BTC to Lightning wallet.\\n\\nI think US citizens have cashapp for this (?). Might be wrong tho.\\n\\nAnything there worldwide or EU? \\n\\nI imagine the service should work like this:\\n\\n- I want to buy $5 bucks of BTC that withdraws to Lightning.\\n- Go to website, pay by card $5. Service takes 50cents fee or something. \\n- The rest, withdraw immediately and directly to Lightning wallet.\"\n        ],\n        \"semantic_type\": \"\",\n        \"description\": \"\"\n      }\n    },\n    {\n      \"column\": \"upvote_ratio\",\n      \"properties\": {\n        \"dtype\": \"number\",\n        \"std\": null,\n        \"min\": null,\n        \"max\": null,\n        \"num_unique_values\": 0,\n        \"samples\": [],\n        \"semantic_type\": \"\",\n        \"description\": \"\"\n      }\n    }\n  ]\n}"
            }
          },
          "metadata": {},
          "execution_count": 92
        }
      ]
    },
    {
      "cell_type": "markdown",
      "source": [
        "#Парсинг второго датасета"
      ],
      "metadata": {
        "id": "TPnMAyCIdr_G"
      }
    },
    {
      "cell_type": "code",
      "source": [
        "file_path = kagglehub.dataset_download(\n",
        "  \"leukipp/reddit-crypto-data\")"
      ],
      "metadata": {
        "id": "8A286Z_9Q2sI"
      },
      "execution_count": 93,
      "outputs": []
    },
    {
      "cell_type": "code",
      "source": [
        "file_path"
      ],
      "metadata": {
        "id": "wh67_gMORzWP",
        "colab": {
          "base_uri": "https://localhost:8080/",
          "height": 36
        },
        "outputId": "94171f8c-602f-485c-bbeb-0f265008fb9f"
      },
      "execution_count": 94,
      "outputs": [
        {
          "output_type": "execute_result",
          "data": {
            "text/plain": [
              "'/root/.cache/kagglehub/datasets/leukipp/reddit-crypto-data/versions/325'"
            ],
            "application/vnd.google.colaboratory.intrinsic+json": {
              "type": "string"
            }
          },
          "metadata": {},
          "execution_count": 94
        }
      ]
    },
    {
      "cell_type": "code",
      "source": [
        "for dirpath, _, filenames in os.walk(file_path):\n",
        "  for filename in filenames:\n",
        "    if not re.search('.*\\.csv$', filename):\n",
        "      continue\n",
        "    df_temp = pd.read_csv(os.path.join(dirpath, filename))\n",
        "    df_temp = df_temp[['created', 'title', 'is_self', 'upvote_ratio', 'score', 'selftext']]\n",
        "    df_temp = df_temp[df_temp['is_self']==1]\n",
        "    df_temp=df_temp.drop(columns=['is_self'])\n",
        "    df_temp.columns = ['date', 'title', 'upvote_ratio', 'upvotes', 'text']\n",
        "    df = pd.concat([df, df_temp], ignore_index=True)"
      ],
      "metadata": {
        "id": "uuJMAV_uSYta"
      },
      "execution_count": 98,
      "outputs": []
    },
    {
      "cell_type": "code",
      "source": [
        "df.shape"
      ],
      "metadata": {
        "colab": {
          "base_uri": "https://localhost:8080/"
        },
        "id": "1ZdTpOPOOk7-",
        "outputId": "754dd0f8-009d-4931-cd85-ad3160212eea"
      },
      "execution_count": 99,
      "outputs": [
        {
          "output_type": "execute_result",
          "data": {
            "text/plain": [
              "(530668, 5)"
            ]
          },
          "metadata": {},
          "execution_count": 99
        }
      ]
    },
    {
      "cell_type": "markdown",
      "source": [
        "#Парсинг третьего датасета"
      ],
      "metadata": {
        "id": "7-aGQDLsd1Jh"
      }
    },
    {
      "cell_type": "code",
      "source": [
        "file_path = kagglehub.dataset_download(\n",
        "    'pavellexyr/reddit-r-bitcoin-data-for-jun-2022')"
      ],
      "metadata": {
        "id": "BAPPHiTEO37K"
      },
      "execution_count": 100,
      "outputs": []
    },
    {
      "cell_type": "code",
      "source": [
        "file_path"
      ],
      "metadata": {
        "colab": {
          "base_uri": "https://localhost:8080/",
          "height": 36
        },
        "id": "cJiCr26GPbgL",
        "outputId": "999ffb01-23d6-41cf-9c05-7601b8df5a07"
      },
      "execution_count": 101,
      "outputs": [
        {
          "output_type": "execute_result",
          "data": {
            "text/plain": [
              "'/root/.cache/kagglehub/datasets/pavellexyr/reddit-r-bitcoin-data-for-jun-2022/versions/1'"
            ],
            "application/vnd.google.colaboratory.intrinsic+json": {
              "type": "string"
            }
          },
          "metadata": {},
          "execution_count": 101
        }
      ]
    },
    {
      "cell_type": "code",
      "source": [
        "file_path += '/reddit-r-bitcoin-data-for-jun-2022-'\n",
        "df_comments = pd.read_csv(file_path + 'comments.csv')\n",
        "df_posts = pd.read_csv(file_path + 'posts.csv')"
      ],
      "metadata": {
        "id": "sHGefPMPQn7V"
      },
      "execution_count": 102,
      "outputs": []
    },
    {
      "cell_type": "code",
      "source": [
        "df_comments = df_comments[['created_utc', 'body', 'score']]\n",
        "df_comments['created_utc'] = df_comments['created_utc'].apply(lambda x : pd.to_datetime(x, utc=True, unit='s'))\n",
        "df_comments.columns = ['date', 'text', 'upvotes']\n"
      ],
      "metadata": {
        "id": "hx0Tqv4GRKP-"
      },
      "execution_count": 103,
      "outputs": []
    },
    {
      "cell_type": "code",
      "source": [
        "df_comments['date']"
      ],
      "metadata": {
        "colab": {
          "base_uri": "https://localhost:8080/",
          "height": 458
        },
        "id": "g324zjbbVaOI",
        "outputId": "7c25e94b-91e3-40f6-c761-a95651a2d3e5"
      },
      "execution_count": 104,
      "outputs": [
        {
          "output_type": "execute_result",
          "data": {
            "text/plain": [
              "0        2022-06-30 23:59:53+00:00\n",
              "1        2022-06-30 23:59:29+00:00\n",
              "2        2022-06-30 23:59:28+00:00\n",
              "3        2022-06-30 23:59:24+00:00\n",
              "4        2022-06-30 23:59:14+00:00\n",
              "                    ...           \n",
              "170027   2022-06-01 00:01:48+00:00\n",
              "170028   2022-06-01 00:01:43+00:00\n",
              "170029   2022-06-01 00:00:50+00:00\n",
              "170030   2022-06-01 00:00:22+00:00\n",
              "170031   2022-06-01 00:00:05+00:00\n",
              "Name: date, Length: 170032, dtype: datetime64[ns, UTC]"
            ],
            "text/html": [
              "<div>\n",
              "<style scoped>\n",
              "    .dataframe tbody tr th:only-of-type {\n",
              "        vertical-align: middle;\n",
              "    }\n",
              "\n",
              "    .dataframe tbody tr th {\n",
              "        vertical-align: top;\n",
              "    }\n",
              "\n",
              "    .dataframe thead th {\n",
              "        text-align: right;\n",
              "    }\n",
              "</style>\n",
              "<table border=\"1\" class=\"dataframe\">\n",
              "  <thead>\n",
              "    <tr style=\"text-align: right;\">\n",
              "      <th></th>\n",
              "      <th>date</th>\n",
              "    </tr>\n",
              "  </thead>\n",
              "  <tbody>\n",
              "    <tr>\n",
              "      <th>0</th>\n",
              "      <td>2022-06-30 23:59:53+00:00</td>\n",
              "    </tr>\n",
              "    <tr>\n",
              "      <th>1</th>\n",
              "      <td>2022-06-30 23:59:29+00:00</td>\n",
              "    </tr>\n",
              "    <tr>\n",
              "      <th>2</th>\n",
              "      <td>2022-06-30 23:59:28+00:00</td>\n",
              "    </tr>\n",
              "    <tr>\n",
              "      <th>3</th>\n",
              "      <td>2022-06-30 23:59:24+00:00</td>\n",
              "    </tr>\n",
              "    <tr>\n",
              "      <th>4</th>\n",
              "      <td>2022-06-30 23:59:14+00:00</td>\n",
              "    </tr>\n",
              "    <tr>\n",
              "      <th>...</th>\n",
              "      <td>...</td>\n",
              "    </tr>\n",
              "    <tr>\n",
              "      <th>170027</th>\n",
              "      <td>2022-06-01 00:01:48+00:00</td>\n",
              "    </tr>\n",
              "    <tr>\n",
              "      <th>170028</th>\n",
              "      <td>2022-06-01 00:01:43+00:00</td>\n",
              "    </tr>\n",
              "    <tr>\n",
              "      <th>170029</th>\n",
              "      <td>2022-06-01 00:00:50+00:00</td>\n",
              "    </tr>\n",
              "    <tr>\n",
              "      <th>170030</th>\n",
              "      <td>2022-06-01 00:00:22+00:00</td>\n",
              "    </tr>\n",
              "    <tr>\n",
              "      <th>170031</th>\n",
              "      <td>2022-06-01 00:00:05+00:00</td>\n",
              "    </tr>\n",
              "  </tbody>\n",
              "</table>\n",
              "<p>170032 rows × 1 columns</p>\n",
              "</div><br><label><b>dtype:</b> datetime64[ns, UTC]</label>"
            ]
          },
          "metadata": {},
          "execution_count": 104
        }
      ]
    },
    {
      "cell_type": "code",
      "source": [
        "df_posts = df_posts[['selftext', 'title', 'score', 'created_utc']]\n",
        "df_posts = df_posts[(df_posts['selftext'] != '') &\n",
        " (df_posts['selftext'].notnull()) &\n",
        "  (df_posts['selftext'] != '[deleted]') &\n",
        "   (df_posts['selftext'] != '[removed]')]\n",
        "df_posts['created_utc'] = df_posts['created_utc'].apply(lambda x : pd.to_datetime(x, utc=True, unit='s'))\n",
        "df_posts.columns = ['text', 'title', 'upvotes', 'date']\n"
      ],
      "metadata": {
        "id": "QRAapl4IRqgP"
      },
      "execution_count": 105,
      "outputs": []
    },
    {
      "cell_type": "code",
      "source": [
        "df_posts"
      ],
      "metadata": {
        "colab": {
          "base_uri": "https://localhost:8080/",
          "height": 423
        },
        "id": "AFblbnzzXvGB",
        "outputId": "83062474-5eae-437d-e14f-96359ef3333a"
      },
      "execution_count": 106,
      "outputs": [
        {
          "output_type": "execute_result",
          "data": {
            "text/plain": [
              "                                                   text  \\\n",
              "1     I was thinking.. is it possible for the govern...   \n",
              "4     How long is a reasonable amount of time for BT...   \n",
              "6     I bought a toilet with bitcoin. Why? Because I...   \n",
              "12    If bitcoins are sent to an invalid address, wh...   \n",
              "14    Have had equity in my home for about 14 years ...   \n",
              "...                                                 ...   \n",
              "7516  I lost my private key, but I have my 12 word p...   \n",
              "7521  Was the crypto market expected to stay un-coup...   \n",
              "7526  Let's say you retire with 2 btc...along with o...   \n",
              "7530  Still relatively new into my Bitcoin journey (...   \n",
              "7540  I have nothing against Gemini I will definitel...   \n",
              "\n",
              "                                                  title  upvotes  \\\n",
              "1                              Bitcoin and the internet        0   \n",
              "4                                  Deciphering BTC Hash        0   \n",
              "6                                                Toilet       21   \n",
              "12                                  Lost coins question        3   \n",
              "14                          Real Estate up/Bitcoin down        2   \n",
              "...                                                 ...      ...   \n",
              "7516                                        Lost It All        8   \n",
              "7521  ELI5: Why the de-coupling from the stock marke...        0   \n",
              "7526  what is the correct way to utilize bitcoin as ...       19   \n",
              "7530         How Many HODLers here run a BTC / LN node?       12   \n",
              "7540  finally took all my coins off exchange into a ...      127   \n",
              "\n",
              "                          date  \n",
              "1    2022-06-30 23:42:34+00:00  \n",
              "4    2022-06-30 23:26:26+00:00  \n",
              "6    2022-06-30 23:22:13+00:00  \n",
              "12   2022-06-30 23:14:14+00:00  \n",
              "14   2022-06-30 23:00:53+00:00  \n",
              "...                        ...  \n",
              "7516 2022-06-01 03:55:38+00:00  \n",
              "7521 2022-06-01 03:08:17+00:00  \n",
              "7526 2022-06-01 02:20:02+00:00  \n",
              "7530 2022-06-01 01:40:44+00:00  \n",
              "7540 2022-06-01 00:01:27+00:00  \n",
              "\n",
              "[1555 rows x 4 columns]"
            ],
            "text/html": [
              "\n",
              "  <div id=\"df-45c94353-9dc0-4cfd-9844-5fe2f6ed64f3\" class=\"colab-df-container\">\n",
              "    <div>\n",
              "<style scoped>\n",
              "    .dataframe tbody tr th:only-of-type {\n",
              "        vertical-align: middle;\n",
              "    }\n",
              "\n",
              "    .dataframe tbody tr th {\n",
              "        vertical-align: top;\n",
              "    }\n",
              "\n",
              "    .dataframe thead th {\n",
              "        text-align: right;\n",
              "    }\n",
              "</style>\n",
              "<table border=\"1\" class=\"dataframe\">\n",
              "  <thead>\n",
              "    <tr style=\"text-align: right;\">\n",
              "      <th></th>\n",
              "      <th>text</th>\n",
              "      <th>title</th>\n",
              "      <th>upvotes</th>\n",
              "      <th>date</th>\n",
              "    </tr>\n",
              "  </thead>\n",
              "  <tbody>\n",
              "    <tr>\n",
              "      <th>1</th>\n",
              "      <td>I was thinking.. is it possible for the govern...</td>\n",
              "      <td>Bitcoin and the internet</td>\n",
              "      <td>0</td>\n",
              "      <td>2022-06-30 23:42:34+00:00</td>\n",
              "    </tr>\n",
              "    <tr>\n",
              "      <th>4</th>\n",
              "      <td>How long is a reasonable amount of time for BT...</td>\n",
              "      <td>Deciphering BTC Hash</td>\n",
              "      <td>0</td>\n",
              "      <td>2022-06-30 23:26:26+00:00</td>\n",
              "    </tr>\n",
              "    <tr>\n",
              "      <th>6</th>\n",
              "      <td>I bought a toilet with bitcoin. Why? Because I...</td>\n",
              "      <td>Toilet</td>\n",
              "      <td>21</td>\n",
              "      <td>2022-06-30 23:22:13+00:00</td>\n",
              "    </tr>\n",
              "    <tr>\n",
              "      <th>12</th>\n",
              "      <td>If bitcoins are sent to an invalid address, wh...</td>\n",
              "      <td>Lost coins question</td>\n",
              "      <td>3</td>\n",
              "      <td>2022-06-30 23:14:14+00:00</td>\n",
              "    </tr>\n",
              "    <tr>\n",
              "      <th>14</th>\n",
              "      <td>Have had equity in my home for about 14 years ...</td>\n",
              "      <td>Real Estate up/Bitcoin down</td>\n",
              "      <td>2</td>\n",
              "      <td>2022-06-30 23:00:53+00:00</td>\n",
              "    </tr>\n",
              "    <tr>\n",
              "      <th>...</th>\n",
              "      <td>...</td>\n",
              "      <td>...</td>\n",
              "      <td>...</td>\n",
              "      <td>...</td>\n",
              "    </tr>\n",
              "    <tr>\n",
              "      <th>7516</th>\n",
              "      <td>I lost my private key, but I have my 12 word p...</td>\n",
              "      <td>Lost It All</td>\n",
              "      <td>8</td>\n",
              "      <td>2022-06-01 03:55:38+00:00</td>\n",
              "    </tr>\n",
              "    <tr>\n",
              "      <th>7521</th>\n",
              "      <td>Was the crypto market expected to stay un-coup...</td>\n",
              "      <td>ELI5: Why the de-coupling from the stock marke...</td>\n",
              "      <td>0</td>\n",
              "      <td>2022-06-01 03:08:17+00:00</td>\n",
              "    </tr>\n",
              "    <tr>\n",
              "      <th>7526</th>\n",
              "      <td>Let's say you retire with 2 btc...along with o...</td>\n",
              "      <td>what is the correct way to utilize bitcoin as ...</td>\n",
              "      <td>19</td>\n",
              "      <td>2022-06-01 02:20:02+00:00</td>\n",
              "    </tr>\n",
              "    <tr>\n",
              "      <th>7530</th>\n",
              "      <td>Still relatively new into my Bitcoin journey (...</td>\n",
              "      <td>How Many HODLers here run a BTC / LN node?</td>\n",
              "      <td>12</td>\n",
              "      <td>2022-06-01 01:40:44+00:00</td>\n",
              "    </tr>\n",
              "    <tr>\n",
              "      <th>7540</th>\n",
              "      <td>I have nothing against Gemini I will definitel...</td>\n",
              "      <td>finally took all my coins off exchange into a ...</td>\n",
              "      <td>127</td>\n",
              "      <td>2022-06-01 00:01:27+00:00</td>\n",
              "    </tr>\n",
              "  </tbody>\n",
              "</table>\n",
              "<p>1555 rows × 4 columns</p>\n",
              "</div>\n",
              "    <div class=\"colab-df-buttons\">\n",
              "\n",
              "  <div class=\"colab-df-container\">\n",
              "    <button class=\"colab-df-convert\" onclick=\"convertToInteractive('df-45c94353-9dc0-4cfd-9844-5fe2f6ed64f3')\"\n",
              "            title=\"Convert this dataframe to an interactive table.\"\n",
              "            style=\"display:none;\">\n",
              "\n",
              "  <svg xmlns=\"http://www.w3.org/2000/svg\" height=\"24px\" viewBox=\"0 -960 960 960\">\n",
              "    <path d=\"M120-120v-720h720v720H120Zm60-500h600v-160H180v160Zm220 220h160v-160H400v160Zm0 220h160v-160H400v160ZM180-400h160v-160H180v160Zm440 0h160v-160H620v160ZM180-180h160v-160H180v160Zm440 0h160v-160H620v160Z\"/>\n",
              "  </svg>\n",
              "    </button>\n",
              "\n",
              "  <style>\n",
              "    .colab-df-container {\n",
              "      display:flex;\n",
              "      gap: 12px;\n",
              "    }\n",
              "\n",
              "    .colab-df-convert {\n",
              "      background-color: #E8F0FE;\n",
              "      border: none;\n",
              "      border-radius: 50%;\n",
              "      cursor: pointer;\n",
              "      display: none;\n",
              "      fill: #1967D2;\n",
              "      height: 32px;\n",
              "      padding: 0 0 0 0;\n",
              "      width: 32px;\n",
              "    }\n",
              "\n",
              "    .colab-df-convert:hover {\n",
              "      background-color: #E2EBFA;\n",
              "      box-shadow: 0px 1px 2px rgba(60, 64, 67, 0.3), 0px 1px 3px 1px rgba(60, 64, 67, 0.15);\n",
              "      fill: #174EA6;\n",
              "    }\n",
              "\n",
              "    .colab-df-buttons div {\n",
              "      margin-bottom: 4px;\n",
              "    }\n",
              "\n",
              "    [theme=dark] .colab-df-convert {\n",
              "      background-color: #3B4455;\n",
              "      fill: #D2E3FC;\n",
              "    }\n",
              "\n",
              "    [theme=dark] .colab-df-convert:hover {\n",
              "      background-color: #434B5C;\n",
              "      box-shadow: 0px 1px 3px 1px rgba(0, 0, 0, 0.15);\n",
              "      filter: drop-shadow(0px 1px 2px rgba(0, 0, 0, 0.3));\n",
              "      fill: #FFFFFF;\n",
              "    }\n",
              "  </style>\n",
              "\n",
              "    <script>\n",
              "      const buttonEl =\n",
              "        document.querySelector('#df-45c94353-9dc0-4cfd-9844-5fe2f6ed64f3 button.colab-df-convert');\n",
              "      buttonEl.style.display =\n",
              "        google.colab.kernel.accessAllowed ? 'block' : 'none';\n",
              "\n",
              "      async function convertToInteractive(key) {\n",
              "        const element = document.querySelector('#df-45c94353-9dc0-4cfd-9844-5fe2f6ed64f3');\n",
              "        const dataTable =\n",
              "          await google.colab.kernel.invokeFunction('convertToInteractive',\n",
              "                                                    [key], {});\n",
              "        if (!dataTable) return;\n",
              "\n",
              "        const docLinkHtml = 'Like what you see? Visit the ' +\n",
              "          '<a target=\"_blank\" href=https://colab.research.google.com/notebooks/data_table.ipynb>data table notebook</a>'\n",
              "          + ' to learn more about interactive tables.';\n",
              "        element.innerHTML = '';\n",
              "        dataTable['output_type'] = 'display_data';\n",
              "        await google.colab.output.renderOutput(dataTable, element);\n",
              "        const docLink = document.createElement('div');\n",
              "        docLink.innerHTML = docLinkHtml;\n",
              "        element.appendChild(docLink);\n",
              "      }\n",
              "    </script>\n",
              "  </div>\n",
              "\n",
              "\n",
              "<div id=\"df-7f2bb369-d6fb-4ebc-b5d4-752a3369070c\">\n",
              "  <button class=\"colab-df-quickchart\" onclick=\"quickchart('df-7f2bb369-d6fb-4ebc-b5d4-752a3369070c')\"\n",
              "            title=\"Suggest charts\"\n",
              "            style=\"display:none;\">\n",
              "\n",
              "<svg xmlns=\"http://www.w3.org/2000/svg\" height=\"24px\"viewBox=\"0 0 24 24\"\n",
              "     width=\"24px\">\n",
              "    <g>\n",
              "        <path d=\"M19 3H5c-1.1 0-2 .9-2 2v14c0 1.1.9 2 2 2h14c1.1 0 2-.9 2-2V5c0-1.1-.9-2-2-2zM9 17H7v-7h2v7zm4 0h-2V7h2v10zm4 0h-2v-4h2v4z\"/>\n",
              "    </g>\n",
              "</svg>\n",
              "  </button>\n",
              "\n",
              "<style>\n",
              "  .colab-df-quickchart {\n",
              "      --bg-color: #E8F0FE;\n",
              "      --fill-color: #1967D2;\n",
              "      --hover-bg-color: #E2EBFA;\n",
              "      --hover-fill-color: #174EA6;\n",
              "      --disabled-fill-color: #AAA;\n",
              "      --disabled-bg-color: #DDD;\n",
              "  }\n",
              "\n",
              "  [theme=dark] .colab-df-quickchart {\n",
              "      --bg-color: #3B4455;\n",
              "      --fill-color: #D2E3FC;\n",
              "      --hover-bg-color: #434B5C;\n",
              "      --hover-fill-color: #FFFFFF;\n",
              "      --disabled-bg-color: #3B4455;\n",
              "      --disabled-fill-color: #666;\n",
              "  }\n",
              "\n",
              "  .colab-df-quickchart {\n",
              "    background-color: var(--bg-color);\n",
              "    border: none;\n",
              "    border-radius: 50%;\n",
              "    cursor: pointer;\n",
              "    display: none;\n",
              "    fill: var(--fill-color);\n",
              "    height: 32px;\n",
              "    padding: 0;\n",
              "    width: 32px;\n",
              "  }\n",
              "\n",
              "  .colab-df-quickchart:hover {\n",
              "    background-color: var(--hover-bg-color);\n",
              "    box-shadow: 0 1px 2px rgba(60, 64, 67, 0.3), 0 1px 3px 1px rgba(60, 64, 67, 0.15);\n",
              "    fill: var(--button-hover-fill-color);\n",
              "  }\n",
              "\n",
              "  .colab-df-quickchart-complete:disabled,\n",
              "  .colab-df-quickchart-complete:disabled:hover {\n",
              "    background-color: var(--disabled-bg-color);\n",
              "    fill: var(--disabled-fill-color);\n",
              "    box-shadow: none;\n",
              "  }\n",
              "\n",
              "  .colab-df-spinner {\n",
              "    border: 2px solid var(--fill-color);\n",
              "    border-color: transparent;\n",
              "    border-bottom-color: var(--fill-color);\n",
              "    animation:\n",
              "      spin 1s steps(1) infinite;\n",
              "  }\n",
              "\n",
              "  @keyframes spin {\n",
              "    0% {\n",
              "      border-color: transparent;\n",
              "      border-bottom-color: var(--fill-color);\n",
              "      border-left-color: var(--fill-color);\n",
              "    }\n",
              "    20% {\n",
              "      border-color: transparent;\n",
              "      border-left-color: var(--fill-color);\n",
              "      border-top-color: var(--fill-color);\n",
              "    }\n",
              "    30% {\n",
              "      border-color: transparent;\n",
              "      border-left-color: var(--fill-color);\n",
              "      border-top-color: var(--fill-color);\n",
              "      border-right-color: var(--fill-color);\n",
              "    }\n",
              "    40% {\n",
              "      border-color: transparent;\n",
              "      border-right-color: var(--fill-color);\n",
              "      border-top-color: var(--fill-color);\n",
              "    }\n",
              "    60% {\n",
              "      border-color: transparent;\n",
              "      border-right-color: var(--fill-color);\n",
              "    }\n",
              "    80% {\n",
              "      border-color: transparent;\n",
              "      border-right-color: var(--fill-color);\n",
              "      border-bottom-color: var(--fill-color);\n",
              "    }\n",
              "    90% {\n",
              "      border-color: transparent;\n",
              "      border-bottom-color: var(--fill-color);\n",
              "    }\n",
              "  }\n",
              "</style>\n",
              "\n",
              "  <script>\n",
              "    async function quickchart(key) {\n",
              "      const quickchartButtonEl =\n",
              "        document.querySelector('#' + key + ' button');\n",
              "      quickchartButtonEl.disabled = true;  // To prevent multiple clicks.\n",
              "      quickchartButtonEl.classList.add('colab-df-spinner');\n",
              "      try {\n",
              "        const charts = await google.colab.kernel.invokeFunction(\n",
              "            'suggestCharts', [key], {});\n",
              "      } catch (error) {\n",
              "        console.error('Error during call to suggestCharts:', error);\n",
              "      }\n",
              "      quickchartButtonEl.classList.remove('colab-df-spinner');\n",
              "      quickchartButtonEl.classList.add('colab-df-quickchart-complete');\n",
              "    }\n",
              "    (() => {\n",
              "      let quickchartButtonEl =\n",
              "        document.querySelector('#df-7f2bb369-d6fb-4ebc-b5d4-752a3369070c button');\n",
              "      quickchartButtonEl.style.display =\n",
              "        google.colab.kernel.accessAllowed ? 'block' : 'none';\n",
              "    })();\n",
              "  </script>\n",
              "</div>\n",
              "    </div>\n",
              "  </div>\n"
            ],
            "application/vnd.google.colaboratory.intrinsic+json": {
              "type": "dataframe",
              "variable_name": "df_posts",
              "summary": "{\n  \"name\": \"df_posts\",\n  \"rows\": 1555,\n  \"fields\": [\n    {\n      \"column\": \"text\",\n      \"properties\": {\n        \"dtype\": \"string\",\n        \"num_unique_values\": 1546,\n        \"samples\": [\n          \"I wanted to see how the interface for a merchant using crypto as payment method worked.Read an article online that Overstock is big on Bitcoin pay option. I  selected a random item just to get at checkout page. It was a random couch for $600. At checkout ,Overstock provides me with their bitcoin(copy)address,  check the box  \\\"I have sent the funds\\\" and submit.I got an email with with payment confirmation and order number.  I was surprised order went through because I dont own any Bitcoins and didnt send them any payment! I immediately canceled my order but has anyone experienced this ?Using a Crypto merchant and process an order without payment confirmation.\",\n          \"I been trying to access my account, but the 2fa email is not working. I don't get any email, and when I    tried to reach support, I was unsuccessful.\\n\\nNot sure what to do next.\",\n          \"Watch it here: [https://www.youtube.com/watch?v=Hk5wDrtScF8](https://www.youtube.com/watch?v=Hk5wDrtScF8)\\n\\nMicroStrategy CEO Michael Saylor says \\\"if Bitcoin (BTC) is not going to zero, then it\\u2019s going to a million.\\\"\\n\\nWhat are your thoughts on this? \"\n        ],\n        \"semantic_type\": \"\",\n        \"description\": \"\"\n      }\n    },\n    {\n      \"column\": \"title\",\n      \"properties\": {\n        \"dtype\": \"string\",\n        \"num_unique_values\": 1551,\n        \"samples\": [\n          \"Why do bitcoin holders capitalize so much on their emotions???\",\n          \"So any concrete theories for the dropity drop and further drop ?\",\n          \"IMO Bitcoin will survive this recession and once economies begin to stabilize the general public will trust in the technology.\"\n        ],\n        \"semantic_type\": \"\",\n        \"description\": \"\"\n      }\n    },\n    {\n      \"column\": \"upvotes\",\n      \"properties\": {\n        \"dtype\": \"number\",\n        \"std\": 113,\n        \"min\": 0,\n        \"max\": 2096,\n        \"num_unique_values\": 179,\n        \"samples\": [\n          72,\n          14,\n          47\n        ],\n        \"semantic_type\": \"\",\n        \"description\": \"\"\n      }\n    },\n    {\n      \"column\": \"date\",\n      \"properties\": {\n        \"dtype\": \"date\",\n        \"min\": \"2022-06-01 00:01:27+00:00\",\n        \"max\": \"2022-06-30 23:42:34+00:00\",\n        \"num_unique_values\": 1554,\n        \"samples\": [\n          \"2022-06-01 18:34:10+00:00\",\n          \"2022-06-23 22:13:26+00:00\",\n          \"2022-06-22 04:43:40+00:00\"\n        ],\n        \"semantic_type\": \"\",\n        \"description\": \"\"\n      }\n    }\n  ]\n}"
            }
          },
          "metadata": {},
          "execution_count": 106
        }
      ]
    },
    {
      "cell_type": "code",
      "source": [
        "df = pd.concat([df, df_comments, df_posts], ignore_index=True)"
      ],
      "metadata": {
        "id": "8AL5pc-jYdPS"
      },
      "execution_count": 107,
      "outputs": []
    },
    {
      "cell_type": "markdown",
      "source": [
        "#Сохранение в json"
      ],
      "metadata": {
        "id": "FdwnYJz8d3CB"
      }
    },
    {
      "cell_type": "code",
      "source": [
        "df.shape"
      ],
      "metadata": {
        "colab": {
          "base_uri": "https://localhost:8080/"
        },
        "id": "wQ78SU2oYuhU",
        "outputId": "24fc17ce-e7aa-42d1-bdae-93569a6de658"
      },
      "execution_count": 108,
      "outputs": [
        {
          "output_type": "execute_result",
          "data": {
            "text/plain": [
              "(702255, 5)"
            ]
          },
          "metadata": {},
          "execution_count": 108
        }
      ]
    },
    {
      "cell_type": "code",
      "source": [
        "df.to_json('{}.json'.format(datetime.datetime.now().strftime(\"%Y-%m-%d-%H-%M-%S\")), orient='records', lines=True)"
      ],
      "metadata": {
        "id": "DiPv1IPKb4Ji"
      },
      "execution_count": 109,
      "outputs": []
    }
  ]
}